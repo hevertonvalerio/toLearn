{
  "nbformat": 4,
  "nbformat_minor": 0,
  "metadata": {
    "colab": {
      "provenance": [],
      "toc_visible": true,
      "authorship_tag": "ABX9TyMQiVroYlxYKjafRuYPjoUD",
      "include_colab_link": true
    },
    "kernelspec": {
      "name": "python3",
      "display_name": "Python 3"
    },
    "language_info": {
      "name": "python"
    }
  },
  "cells": [
    {
      "cell_type": "markdown",
      "metadata": {
        "id": "view-in-github",
        "colab_type": "text"
      },
      "source": [
        "<a href=\"https://colab.research.google.com/github/hevertonvalerio/toLearn/blob/main/Projeto_ToLearn_2.ipynb\" target=\"_parent\"><img src=\"https://colab.research.google.com/assets/colab-badge.svg\" alt=\"Open In Colab\"/></a>"
      ]
    },
    {
      "cell_type": "markdown",
      "source": [
        "# Planejamento do Projeto\n"
      ],
      "metadata": {
        "id": "_SXY3uHtWIGJ"
      }
    },
    {
      "cell_type": "markdown",
      "source": [
        "## **Fase 1: Concepção do Projeto (Design Thinking)**  \n",
        "**Objetivo**: Identificar necessidades e problemas, criar soluções e prototipar funcionalidades.  "
      ],
      "metadata": {
        "id": "w0OdP981Vk6H"
      }
    },
    {
      "cell_type": "markdown",
      "source": [
        "### **Etapas**  \n",
        "1. **Empatia**  \n",
        "   - Entrevistar alunos para entender suas dificuldades em organizar o estudo e fixar conteúdo.  \n",
        "   - Mapear problemas específicos: dificuldade em relembrar, exercícios pouco engajantes, falta de métricas claras.  \n",
        "\n",
        "2. **Definição**  \n",
        "   - Problemas identificados:  \n",
        "     - Falta de personalização no estudo.  \n",
        "     - Dificuldade em aplicar o conteúdo de forma prática.  \n",
        "     - Necessidade de feedback claro e motivacional.  \n",
        "\n",
        "3. **Ideação**  \n",
        "   - Funcionalidades principais:  \n",
        "     - **Lembrar**: Perguntas abertas analisadas pela IA.  \n",
        "     - **Compreender**: Exercícios simples adaptados ao desempenho inicial.  \n",
        "     - **Aplicar**: Questões práticas para reforçar o aprendizado.  \n",
        "     - **Analisar**: Problemas desafiadores.  \n",
        "     - **Avaliar**: Recapitulação de pontos principais.  \n",
        "     - **Criar**: Incentivo à criação de resumos ativos.  \n",
        "     - **Encerramento**: Métricas e sugestões baseadas no método Pomodoro.  \n",
        "\n",
        "4. **Prototipagem**  \n",
        "   - Criar mockups para as telas principais:  \n",
        "     - Interface do caderno virtual.  \n",
        "     - Fluxo de interação do chatbot (perguntas, exercícios e feedback).  \n",
        "   - Definir fluxos de navegação.  \n",
        "\n",
        "5. **Teste Inicial**  \n",
        "   - Apresentar o protótipo para um grupo de alunos.  \n",
        "   - Coletar feedback sobre a usabilidade e adequação das funcionalidades.  "
      ],
      "metadata": {
        "id": "OoCfam6uVggh"
      }
    },
    {
      "cell_type": "markdown",
      "source": [
        "## **Fase 2: Desenvolvimento Iterativo (Scrum)**  \n",
        "**Objetivo**: Implementar funcionalidades de forma incremental e ajustá-las com base no feedback.  \n"
      ],
      "metadata": {
        "id": "y0-sscyuVqT3"
      }
    },
    {
      "cell_type": "markdown",
      "source": [
        "\n",
        "### **Sprint Planning**  \n",
        "- **Sprints**: Dividir o projeto em ciclos de 2 semanas.  \n",
        "- **Backlog Inicial**:  \n",
        "  1. Lembrar: Implementar o módulo de análise de respostas.  \n",
        "  2. Compreender: Desenvolver o sistema de recomendação de exercícios simples.  \n",
        "  3. Aplicar: Criar o gerador de questões práticas.  \n",
        "  4. Analisar: Introduzir problemas desafiadores e avaliação.  \n",
        "  5. Avaliar e Criar: Desenvolver feedback motivacional e ferramentas de criação de resumos.  \n",
        "\n",
        "### **Sprints Detalhados**  \n",
        "1. **Sprint 1**  \n",
        "   - **Meta**: Finalizar o módulo \"Lembrar\".  \n",
        "   - **Tarefas**:  \n",
        "     - Treinar modelo de IA para análise de proximidade vetorial.  \n",
        "     - Implementar interface de entrada para respostas curtas.  \n",
        "     - Testar com dados simulados para métricas de desempenho inicial.  \n",
        "\n",
        "2. **Sprint 2**  \n",
        "   - **Meta**: Completar o módulo \"Compreender\".  \n",
        "   - **Tarefas**:  \n",
        "     - Desenvolver algoritmo de recomendação de exercícios.  \n",
        "     - Integrar métricas de desempenho do aluno na geração dos exercícios.  \n",
        "     - Testar personalização do conteúdo.  \n",
        "\n",
        "3. **Sprint 3**  \n",
        "   - **Meta**: Concluir \"Aplicar\" e \"Analisar\".  \n",
        "   - **Tarefas**:  \n",
        "     - Criar banco de questões práticas e problemas desafiadores.  \n",
        "     - Implementar lógica de avaliação automática.  \n",
        "     - Adicionar feedback visual (notas, progresso).  \n",
        "\n",
        "4. **Sprint 4**  \n",
        "   - **Meta**: Implementar \"Avaliar\" e \"Criar\".  \n",
        "   - **Tarefas**:  \n",
        "     - Desenvolver o resumo automático dos conteúdos principais.  \n",
        "     - Introduzir templates para mapas mentais e flashcards.  \n",
        "\n",
        "5. **Sprint 5**  \n",
        "   - **Meta**: Finalizar \"Encerramento\".  \n",
        "   - **Tarefas**:  \n",
        "     - Adicionar painel de métricas de desempenho.  \n",
        "     - Implementar sugestões baseadas no método Pomodoro.  \n",
        "\n",
        "### **Daily Standups e Revisões**  \n",
        "- Reuniões diárias para monitorar progresso.  \n",
        "- Revisões no final de cada sprint para ajustar backlog e priorizar novas demandas.  "
      ],
      "metadata": {
        "id": "fQyPtJXfVtR7"
      }
    },
    {
      "cell_type": "markdown",
      "source": [
        "## **Fase 3: Otimização Contínua (Data-Driven Development - DDD)**  \n",
        "**Objetivo**: Melhorar continuamente o projeto com base em dados de uso real.  \n",
        "\n"
      ],
      "metadata": {
        "id": "S_3Hx5evVxKo"
      }
    },
    {
      "cell_type": "markdown",
      "source": [
        "### **Coleta de Dados**  \n",
        "- Monitorar interações do aluno com o chatbot:  \n",
        "  - Respostas no módulo \"Lembrar\".  \n",
        "  - Acertos e erros em exercícios e problemas.  \n",
        "  - Tempo gasto em cada etapa de estudo.  \n",
        "\n",
        "### **Análise de Dados**  \n",
        "- Identificar padrões:  \n",
        "  - Quais exercícios geram maior retenção de conteúdo.  \n",
        "  - Quais pontos apresentam maior dificuldade para os alunos.  \n",
        "- Avaliar engajamento:  \n",
        "  - Quantidade de alunos que completam os ciclos de estudo.  \n",
        "  - Feedback qualitativo (notas ou comentários dos alunos).  \n",
        "\n",
        "### **Ajustes Baseados em Dados**  \n",
        "- Atualizar o modelo de IA para melhorar a análise de proximidade vetorial.  \n",
        "- Personalizar recomendações de conteúdo com base em dificuldades específicas.  \n",
        "- Recalibrar dificuldade dos exercícios para evitar frustração ou tédio.  \n",
        "\n",
        "### **Métricas de Sucesso**  \n",
        "- Precisão da IA no módulo \"Lembrar\" > 90%.  \n",
        "- Tempo médio de resposta do chatbot < 2 segundos.  \n",
        "- Taxa de conclusão dos ciclos de estudo > 80%.  "
      ],
      "metadata": {
        "id": "Z8YZQsuWVzSq"
      }
    },
    {
      "cell_type": "markdown",
      "source": [
        "#Fluxo de Interação do Chatbot"
      ],
      "metadata": {
        "id": "KCwhJAU3S_T_"
      }
    },
    {
      "cell_type": "markdown",
      "source": [
        "### **Desenvolvimento do Fluxo de Interação do Chatbot**\n",
        "\n",
        "Aqui está um passo a passo detalhado para criar o fluxo de interação do chatbot, com exemplos práticos de código. Utilizaremos **Python**, **Flask** (para criar a API do chatbot), e **LangChain** para o modelo de linguagem.\n",
        "\n",
        "---"
      ],
      "metadata": {
        "id": "QbAN4zalWR23"
      }
    },
    {
      "cell_type": "code",
      "source": [
        "!pip install flask openai langchain"
      ],
      "metadata": {
        "colab": {
          "base_uri": "https://localhost:8080/"
        },
        "id": "haWkEewQWg1E",
        "outputId": "5c9813bf-8668-487e-b8db-34dc4537a631"
      },
      "execution_count": null,
      "outputs": [
        {
          "output_type": "stream",
          "name": "stdout",
          "text": [
            "Requirement already satisfied: flask in /usr/local/lib/python3.10/dist-packages (3.1.0)\n",
            "Requirement already satisfied: openai in /usr/local/lib/python3.10/dist-packages (1.57.4)\n",
            "Requirement already satisfied: langchain in /usr/local/lib/python3.10/dist-packages (0.3.12)\n",
            "Requirement already satisfied: Werkzeug>=3.1 in /usr/local/lib/python3.10/dist-packages (from flask) (3.1.3)\n",
            "Requirement already satisfied: Jinja2>=3.1.2 in /usr/local/lib/python3.10/dist-packages (from flask) (3.1.4)\n",
            "Requirement already satisfied: itsdangerous>=2.2 in /usr/local/lib/python3.10/dist-packages (from flask) (2.2.0)\n",
            "Requirement already satisfied: click>=8.1.3 in /usr/local/lib/python3.10/dist-packages (from flask) (8.1.7)\n",
            "Requirement already satisfied: blinker>=1.9 in /usr/local/lib/python3.10/dist-packages (from flask) (1.9.0)\n",
            "Requirement already satisfied: anyio<5,>=3.5.0 in /usr/local/lib/python3.10/dist-packages (from openai) (3.7.1)\n",
            "Requirement already satisfied: distro<2,>=1.7.0 in /usr/local/lib/python3.10/dist-packages (from openai) (1.9.0)\n",
            "Requirement already satisfied: httpx<1,>=0.23.0 in /usr/local/lib/python3.10/dist-packages (from openai) (0.28.1)\n",
            "Requirement already satisfied: jiter<1,>=0.4.0 in /usr/local/lib/python3.10/dist-packages (from openai) (0.8.2)\n",
            "Requirement already satisfied: pydantic<3,>=1.9.0 in /usr/local/lib/python3.10/dist-packages (from openai) (2.10.3)\n",
            "Requirement already satisfied: sniffio in /usr/local/lib/python3.10/dist-packages (from openai) (1.3.1)\n",
            "Requirement already satisfied: tqdm>4 in /usr/local/lib/python3.10/dist-packages (from openai) (4.67.1)\n",
            "Requirement already satisfied: typing-extensions<5,>=4.11 in /usr/local/lib/python3.10/dist-packages (from openai) (4.12.2)\n",
            "Requirement already satisfied: PyYAML>=5.3 in /usr/local/lib/python3.10/dist-packages (from langchain) (6.0.2)\n",
            "Requirement already satisfied: SQLAlchemy<3,>=1.4 in /usr/local/lib/python3.10/dist-packages (from langchain) (2.0.36)\n",
            "Requirement already satisfied: aiohttp<4.0.0,>=3.8.3 in /usr/local/lib/python3.10/dist-packages (from langchain) (3.11.10)\n",
            "Requirement already satisfied: async-timeout<5.0.0,>=4.0.0 in /usr/local/lib/python3.10/dist-packages (from langchain) (4.0.3)\n",
            "Requirement already satisfied: langchain-core<0.4.0,>=0.3.25 in /usr/local/lib/python3.10/dist-packages (from langchain) (0.3.25)\n",
            "Requirement already satisfied: langchain-text-splitters<0.4.0,>=0.3.3 in /usr/local/lib/python3.10/dist-packages (from langchain) (0.3.3)\n",
            "Requirement already satisfied: langsmith<0.3,>=0.1.17 in /usr/local/lib/python3.10/dist-packages (from langchain) (0.2.3)\n",
            "Requirement already satisfied: numpy<2,>=1.22.4 in /usr/local/lib/python3.10/dist-packages (from langchain) (1.26.4)\n",
            "Requirement already satisfied: requests<3,>=2 in /usr/local/lib/python3.10/dist-packages (from langchain) (2.32.3)\n",
            "Requirement already satisfied: tenacity!=8.4.0,<10,>=8.1.0 in /usr/local/lib/python3.10/dist-packages (from langchain) (9.0.0)\n",
            "Requirement already satisfied: aiohappyeyeballs>=2.3.0 in /usr/local/lib/python3.10/dist-packages (from aiohttp<4.0.0,>=3.8.3->langchain) (2.4.4)\n",
            "Requirement already satisfied: aiosignal>=1.1.2 in /usr/local/lib/python3.10/dist-packages (from aiohttp<4.0.0,>=3.8.3->langchain) (1.3.2)\n",
            "Requirement already satisfied: attrs>=17.3.0 in /usr/local/lib/python3.10/dist-packages (from aiohttp<4.0.0,>=3.8.3->langchain) (24.3.0)\n",
            "Requirement already satisfied: frozenlist>=1.1.1 in /usr/local/lib/python3.10/dist-packages (from aiohttp<4.0.0,>=3.8.3->langchain) (1.5.0)\n",
            "Requirement already satisfied: multidict<7.0,>=4.5 in /usr/local/lib/python3.10/dist-packages (from aiohttp<4.0.0,>=3.8.3->langchain) (6.1.0)\n",
            "Requirement already satisfied: propcache>=0.2.0 in /usr/local/lib/python3.10/dist-packages (from aiohttp<4.0.0,>=3.8.3->langchain) (0.2.1)\n",
            "Requirement already satisfied: yarl<2.0,>=1.17.0 in /usr/local/lib/python3.10/dist-packages (from aiohttp<4.0.0,>=3.8.3->langchain) (1.18.3)\n",
            "Requirement already satisfied: idna>=2.8 in /usr/local/lib/python3.10/dist-packages (from anyio<5,>=3.5.0->openai) (3.10)\n",
            "Requirement already satisfied: exceptiongroup in /usr/local/lib/python3.10/dist-packages (from anyio<5,>=3.5.0->openai) (1.2.2)\n",
            "Requirement already satisfied: certifi in /usr/local/lib/python3.10/dist-packages (from httpx<1,>=0.23.0->openai) (2024.12.14)\n",
            "Requirement already satisfied: httpcore==1.* in /usr/local/lib/python3.10/dist-packages (from httpx<1,>=0.23.0->openai) (1.0.7)\n",
            "Requirement already satisfied: h11<0.15,>=0.13 in /usr/local/lib/python3.10/dist-packages (from httpcore==1.*->httpx<1,>=0.23.0->openai) (0.14.0)\n",
            "Requirement already satisfied: MarkupSafe>=2.0 in /usr/local/lib/python3.10/dist-packages (from Jinja2>=3.1.2->flask) (3.0.2)\n",
            "Requirement already satisfied: jsonpatch<2.0,>=1.33 in /usr/local/lib/python3.10/dist-packages (from langchain-core<0.4.0,>=0.3.25->langchain) (1.33)\n",
            "Requirement already satisfied: packaging<25,>=23.2 in /usr/local/lib/python3.10/dist-packages (from langchain-core<0.4.0,>=0.3.25->langchain) (24.2)\n",
            "Requirement already satisfied: orjson<4.0.0,>=3.9.14 in /usr/local/lib/python3.10/dist-packages (from langsmith<0.3,>=0.1.17->langchain) (3.10.12)\n",
            "Requirement already satisfied: requests-toolbelt<2.0.0,>=1.0.0 in /usr/local/lib/python3.10/dist-packages (from langsmith<0.3,>=0.1.17->langchain) (1.0.0)\n",
            "Requirement already satisfied: annotated-types>=0.6.0 in /usr/local/lib/python3.10/dist-packages (from pydantic<3,>=1.9.0->openai) (0.7.0)\n",
            "Requirement already satisfied: pydantic-core==2.27.1 in /usr/local/lib/python3.10/dist-packages (from pydantic<3,>=1.9.0->openai) (2.27.1)\n",
            "Requirement already satisfied: charset-normalizer<4,>=2 in /usr/local/lib/python3.10/dist-packages (from requests<3,>=2->langchain) (3.4.0)\n",
            "Requirement already satisfied: urllib3<3,>=1.21.1 in /usr/local/lib/python3.10/dist-packages (from requests<3,>=2->langchain) (2.2.3)\n",
            "Requirement already satisfied: greenlet!=0.4.17 in /usr/local/lib/python3.10/dist-packages (from SQLAlchemy<3,>=1.4->langchain) (3.1.1)\n",
            "Requirement already satisfied: jsonpointer>=1.9 in /usr/local/lib/python3.10/dist-packages (from jsonpatch<2.0,>=1.33->langchain-core<0.4.0,>=0.3.25->langchain) (3.0.0)\n"
          ]
        }
      ]
    },
    {
      "cell_type": "markdown",
      "source": [
        "## Estrutura\n"
      ],
      "metadata": {
        "id": "N0NE3lebXXdK"
      }
    },
    {
      "cell_type": "code",
      "source": [
        "chatbot/\n",
        "├── app.py\n",
        "├── utils/\n",
        "│   ├── content_loader.py  # Função para carregar conteúdos\n",
        "│   ├── analyzer.py        # Análise de respostas do aluno\n",
        "├── templates/\n",
        "│   └── chat.html          # Interface do chatbot\n",
        "└── static/\n",
        "    └── styles.css         # Estilos do chatbot\n"
      ],
      "metadata": {
        "id": "fpQOg1UyWk_q"
      },
      "execution_count": null,
      "outputs": []
    },
    {
      "cell_type": "markdown",
      "source": [
        "## Backend do Chatbot (Flask)"
      ],
      "metadata": {
        "id": "ElM6qf3HXQwG"
      }
    },
    {
      "cell_type": "code",
      "source": [
        "from flask import Flask, request, jsonify, render_template\n",
        "from langchain.chat_models import ChatOpenAI\n",
        "\n",
        "app = Flask(__name__)\n",
        "\n",
        "# Inicializando o modelo OpenAI GPT\n",
        "chat_model = ChatOpenAI(openai_api_key=\"SUA_API_KEY\")\n",
        "\n",
        "@app.route('/')\n",
        "def home():\n",
        "    return render_template('chat.html')\n",
        "\n",
        "@app.route('/chat', methods=['POST'])\n",
        "def chat():\n",
        "    user_message = request.json.get('message')\n",
        "    if not user_message:\n",
        "        return jsonify({'error': 'Mensagem vazia'}), 400\n",
        "\n",
        "    # Fluxo de interação do chatbot\n",
        "    response = chat_model(user_message)\n",
        "    return jsonify({'response': response})\n",
        "\n",
        "if __name__ == '__main__':\n",
        "    app.run(debug=True)\n"
      ],
      "metadata": {
        "id": "1A9MEDWEXL00"
      },
      "execution_count": null,
      "outputs": []
    },
    {
      "cell_type": "markdown",
      "source": [
        "## Interface"
      ],
      "metadata": {
        "id": "fBh_zwkCXiDG"
      }
    },
    {
      "cell_type": "markdown",
      "source": [
        "Arquivo templates/chat.html:"
      ],
      "metadata": {
        "id": "aQ2bYPBoXslj"
      }
    },
    {
      "cell_type": "code",
      "source": [
        "<!DOCTYPE html>\n",
        "<html lang=\"en\">\n",
        "<head>\n",
        "    <meta charset=\"UTF-8\">\n",
        "    <meta name=\"viewport\" content=\"width=device-width, initial-scale=1.0\">\n",
        "    <title>Chatbot Educacional</title>\n",
        "    <link rel=\"stylesheet\" href=\"/static/styles.css\">\n",
        "</head>\n",
        "<body>\n",
        "    <div class=\"chat-container\">\n",
        "        <h1>Assistente de Estudos</h1>\n",
        "        <div class=\"chat-box\" id=\"chat-box\"></div>\n",
        "        <input type=\"text\" id=\"user-input\" placeholder=\"Digite sua mensagem...\" />\n",
        "        <button onclick=\"sendMessage()\">Enviar</button>\n",
        "    </div>\n",
        "\n",
        "    <script>\n",
        "        async function sendMessage() {\n",
        "            const userInput = document.getElementById('user-input').value;\n",
        "            const chatBox = document.getElementById('chat-box');\n",
        "\n",
        "            chatBox.innerHTML += `<div class=\"user-message\">${userInput}</div>`;\n",
        "            document.getElementById('user-input').value = '';\n",
        "\n",
        "            const response = await fetch('/chat', {\n",
        "                method: 'POST',\n",
        "                headers: { 'Content-Type': 'application/json' },\n",
        "                body: JSON.stringify({ message: userInput })\n",
        "            });\n",
        "\n",
        "            const data = await response.json();\n",
        "            chatBox.innerHTML += `<div class=\"bot-message\">${data.response}</div>`;\n",
        "        }\n",
        "    </script>\n",
        "</body>\n",
        "</html>\n"
      ],
      "metadata": {
        "id": "AkY2djNuXkkP"
      },
      "execution_count": null,
      "outputs": []
    },
    {
      "cell_type": "markdown",
      "source": [
        "Arquivo static/styles.css:"
      ],
      "metadata": {
        "id": "yYyl8gbYXvnu"
      }
    },
    {
      "cell_type": "code",
      "source": [
        "body {\n",
        "    font-family: Arial, sans-serif;\n",
        "    background-color: #f4f4f4;\n",
        "    margin: 0;\n",
        "    padding: 0;\n",
        "}\n",
        ".chat-container {\n",
        "    width: 400px;\n",
        "    margin: 50px auto;\n",
        "    background: white;\n",
        "    padding: 20px;\n",
        "    border-radius: 5px;\n",
        "    box-shadow: 0 2px 10px rgba(0, 0, 0, 0.1);\n",
        "}\n",
        ".chat-box {\n",
        "    height: 300px;\n",
        "    overflow-y: auto;\n",
        "    margin-bottom: 10px;\n",
        "    padding: 10px;\n",
        "    border: 1px solid #ddd;\n",
        "}\n",
        ".user-message {\n",
        "    text-align: right;\n",
        "    color: blue;\n",
        "    margin: 5px 0;\n",
        "}\n",
        ".bot-message {\n",
        "    text-align: left;\n",
        "    color: green;\n",
        "    margin: 5px 0;\n",
        "}\n",
        "input[type=\"text\"] {\n",
        "    width: calc(100% - 80px);\n",
        "    padding: 10px;\n",
        "    margin-right: 5px;\n",
        "}\n",
        "button {\n",
        "    padding: 10px;\n",
        "    background: blue;\n",
        "    color: white;\n",
        "    border: none;\n",
        "    cursor: pointer;\n",
        "}\n"
      ],
      "metadata": {
        "id": "8aayg0RmXwuz"
      },
      "execution_count": null,
      "outputs": []
    },
    {
      "cell_type": "markdown",
      "source": [
        "## Fluxo de Interação com o Modelo"
      ],
      "metadata": {
        "id": "aehVYap_Xzt0"
      }
    },
    {
      "cell_type": "markdown",
      "source": [
        "Arquivo utils/analyzer.py:"
      ],
      "metadata": {
        "id": "04eK4tfoX5bb"
      }
    },
    {
      "cell_type": "code",
      "source": [
        "from langchain.embeddings import OpenAIEmbeddings\n",
        "from sklearn.metrics.pairwise import cosine_similarity\n",
        "\n",
        "def analyze_response(student_response, chapter_content):\n",
        "    # Criação de embeddings para análise de proximidade\n",
        "    embeddings = OpenAIEmbeddings()\n",
        "    student_vector = embeddings.embed_text(student_response)\n",
        "    chapter_vector = embeddings.embed_text(chapter_content)\n",
        "\n",
        "    # Cálculo de similaridade vetorial\n",
        "    similarity_score = cosine_similarity([student_vector], [chapter_vector])[0][0]\n",
        "    return similarity_score\n"
      ],
      "metadata": {
        "id": "0JfOubbLX2X_"
      },
      "execution_count": null,
      "outputs": []
    },
    {
      "cell_type": "markdown",
      "source": [
        "Exemplo de uso no app.py:"
      ],
      "metadata": {
        "id": "9Z6HAqJgX71q"
      }
    },
    {
      "cell_type": "code",
      "source": [
        "from utils.analyzer import analyze_response\n",
        "\n",
        "@app.route('/analyze', methods=['POST'])\n",
        "def analyze():\n",
        "    data = request.json\n",
        "    student_response = data.get('response')\n",
        "    chapter_content = data.get('content')\n",
        "\n",
        "    similarity_score = analyze_response(student_response, chapter_content)\n",
        "    return jsonify({'similarity_score': similarity_score})\n"
      ],
      "metadata": {
        "id": "PbktH0XuX81y"
      },
      "execution_count": null,
      "outputs": []
    },
    {
      "cell_type": "markdown",
      "source": [
        "## Testar Chatbot\n"
      ],
      "metadata": {
        "id": "EBRElc3WYGBo"
      }
    },
    {
      "cell_type": "code",
      "source": [],
      "metadata": {
        "id": "9Bgow9zqYKPL"
      },
      "execution_count": null,
      "outputs": []
    },
    {
      "cell_type": "markdown",
      "source": [
        "#Elaboração\n"
      ],
      "metadata": {
        "id": "oZ52avi2THld"
      }
    },
    {
      "cell_type": "markdown",
      "source": [
        "## **1. Adicionar Módulos Específicos**\n",
        "\n",
        "Esses módulos são responsáveis por fornecer uma experiência personalizada para os alunos, como exercícios e recapitulações."
      ],
      "metadata": {
        "id": "S-xk_Rp4Yj3_"
      }
    },
    {
      "cell_type": "markdown",
      "source": [
        "### **Passo 1: Sugestão de Exercícios Baseados no Desempenho**"
      ],
      "metadata": {
        "id": "iR54lFgQYmWx"
      }
    },
    {
      "cell_type": "markdown",
      "source": [
        "#### 1.1. Criar um Banco de Dados de Exercícios\n",
        "Use um arquivo JSON ou um banco de dados SQL para armazenar perguntas e respostas.\n"
      ],
      "metadata": {
        "id": "pJIChiuqYuSL"
      }
    },
    {
      "cell_type": "markdown",
      "source": [
        "**Exemplo de JSON com perguntas:**"
      ],
      "metadata": {
        "id": "l-hBBPLHYv_1"
      }
    },
    {
      "cell_type": "code",
      "source": [
        "{\n",
        "  \"exercises\": [\n",
        "    {\n",
        "      \"id\": 1,\n",
        "      \"chapter\": \"Matemática Básica\",\n",
        "      \"difficulty\": \"fácil\",\n",
        "      \"question\": \"Quanto é 2 + 2?\",\n",
        "      \"answer\": \"4\"\n",
        "    },\n",
        "    {\n",
        "      \"id\": 2,\n",
        "      \"chapter\": \"Matemática Básica\",\n",
        "      \"difficulty\": \"difícil\",\n",
        "      \"question\": \"Quanto é a raiz quadrada de 144?\",\n",
        "      \"answer\": \"12\"\n",
        "    }\n",
        "  ]\n",
        "}"
      ],
      "metadata": {
        "id": "ZsNQCf5DYrq7"
      },
      "execution_count": null,
      "outputs": []
    },
    {
      "cell_type": "markdown",
      "source": [
        "#### 1.2. Criar um Endpoint para Buscar Exercícios\n",
        "Adicionar no `app.py`:\n"
      ],
      "metadata": {
        "id": "uWrN5202Y37F"
      }
    },
    {
      "cell_type": "code",
      "source": [
        "import json\n",
        "\n",
        "@app.route('/exercises', methods=['GET'])\n",
        "def get_exercises():\n",
        "    chapter = request.args.get('chapter')\n",
        "    difficulty = request.args.get('difficulty')\n",
        "\n",
        "    with open('exercises.json', 'r') as f:\n",
        "        exercises = json.load(f)['exercises']\n",
        "\n",
        "    filtered_exercises = [e for e in exercises if e['chapter'] == chapter and e['difficulty'] == difficulty]\n",
        "    return jsonify(filtered_exercises)"
      ],
      "metadata": {
        "id": "iaypjD8bY_5t"
      },
      "execution_count": null,
      "outputs": []
    },
    {
      "cell_type": "markdown",
      "source": [
        "#### 1.3. Integrar ao Chatbot\n",
        "Modifique o chatbot para sugerir exercícios com base no desempenho do aluno:"
      ],
      "metadata": {
        "id": "-dKsSOD6ZBzi"
      }
    },
    {
      "cell_type": "code",
      "source": [
        "@app.route('/suggest_exercises', methods=['POST'])\n",
        "def suggest_exercises():\n",
        "    data = request.json\n",
        "    chapter = data.get('chapter')\n",
        "    difficulty = \"fácil\" if data.get('score') < 0.5 else \"difícil\"\n",
        "\n",
        "    response = get_exercises(chapter, difficulty)\n",
        "    return jsonify(response)"
      ],
      "metadata": {
        "id": "8tvBf-M1ZD1g"
      },
      "execution_count": null,
      "outputs": []
    },
    {
      "cell_type": "markdown",
      "source": [
        "### **Passo 2: Recapitulação de Conteúdos Estudados**"
      ],
      "metadata": {
        "id": "JKLHivDTZFq2"
      }
    },
    {
      "cell_type": "markdown",
      "source": [
        "#### 2.1. Criar Função para Resumir Conteúdo\n",
        "Utilize uma biblioteca de IA para gerar resumos dos capítulos."
      ],
      "metadata": {
        "id": "wVyQU1bYZHXN"
      }
    },
    {
      "cell_type": "code",
      "source": [
        "from langchain.text_splitter import CharacterTextSplitter\n",
        "from langchain.llms import OpenAI\n",
        "\n",
        "def generate_summary(chapter_content):\n",
        "    llm = OpenAI(openai_api_key=\"SUA_API_KEY\")\n",
        "    text_splitter = CharacterTextSplitter(chunk_size=1000, chunk_overlap=50)\n",
        "    chunks = text_splitter.split_text(chapter_content)\n",
        "\n",
        "    summary = \"\"\n",
        "    for chunk in chunks:\n",
        "        summary += llm.generate(chunk).text\n",
        "\n",
        "    return summary"
      ],
      "metadata": {
        "id": "lC3vWihJZI72"
      },
      "execution_count": null,
      "outputs": []
    },
    {
      "cell_type": "markdown",
      "source": [
        "#### 2.2. Adicionar Endpoint para Recapitular Conteúdo"
      ],
      "metadata": {
        "id": "s1bhSq_WZKVz"
      }
    },
    {
      "cell_type": "code",
      "source": [
        "@app.route('/recap', methods=['POST'])\n",
        "def recap():\n",
        "    data = request.json\n",
        "    chapter_content = data.get('content')\n",
        "\n",
        "    summary = generate_summary(chapter_content)\n",
        "    return jsonify({\"summary\": summary})"
      ],
      "metadata": {
        "id": "wtWrqC9ZZLn1"
      },
      "execution_count": null,
      "outputs": []
    },
    {
      "cell_type": "markdown",
      "source": [
        "## **2. Melhorar o Modelo de IA**\n",
        "\n",
        "Para personalizar o chatbot, utilize **fine-tuning** ou **embedding de conteúdos específicos**.\n"
      ],
      "metadata": {
        "id": "qT1qrg72ZNuE"
      }
    },
    {
      "cell_type": "markdown",
      "source": [
        "### **Passo 1: Fine-tuning com OpenAI**"
      ],
      "metadata": {
        "id": "KT-wRqvJZPxv"
      }
    },
    {
      "cell_type": "markdown",
      "source": [
        "#### 1.1. Preparar Dados de Treinamento\n",
        "Crie um arquivo JSONL com exemplos de perguntas e respostas do seu conteúdo."
      ],
      "metadata": {
        "id": "iCQulYsXZRz-"
      }
    },
    {
      "cell_type": "code",
      "source": [
        "{\"prompt\": \"Explique a Lei de Newton\", \"completion\": \"A Lei de Newton descreve a relação entre a força e a aceleração.\"}\n",
        "{\"prompt\": \"Quanto é 2 + 2?\", \"completion\": \"O resultado é 4.\"}"
      ],
      "metadata": {
        "id": "ZRtu9yXaZVJ1"
      },
      "execution_count": null,
      "outputs": []
    },
    {
      "cell_type": "markdown",
      "source": [
        "#### 1.2. Subir Dados e Treinar\n",
        "1. Instale a CLI da OpenAI:\n",
        "   ```\n",
        "   pip install openai\n",
        "   ```\n",
        "2. Valide e suba os dados:\n",
        "   ```\n",
        "   openai tools fine_tunes.prepare_data -f treino.jsonl\n",
        "   openai api fine_tunes.create -t treino_preparado.jsonl -m \"davinci\"\n",
        "   ```\n",
        "\n",
        "3. Use o modelo ajustado no chatbot:\n",
        "   ```python\n",
        "   from openai import ChatCompletion\n",
        "\n",
        "   response = ChatCompletion.create(\n",
        "       model=\"fine-tuned-model-id\",\n",
        "       prompt=\"Explique a Lei de Newton\",\n",
        "   )\n",
        "   ```\n"
      ],
      "metadata": {
        "id": "atvJT4FSZdjA"
      }
    },
    {
      "cell_type": "markdown",
      "source": [
        "### **Passo 2: Embedding de Conteúdo Específico**\n",
        "\n",
        "Use embeddings para armazenar informações dos capítulos e buscar respostas mais próximas."
      ],
      "metadata": {
        "id": "6I2pqpbLZ67V"
      }
    },
    {
      "cell_type": "markdown",
      "source": [
        "#### 2.1. Criar Embeddings para o Conteúdo\n"
      ],
      "metadata": {
        "id": "mwwxh031Z_v3"
      }
    },
    {
      "cell_type": "code",
      "source": [
        "from langchain.embeddings import OpenAIEmbeddings\n",
        "\n",
        "def embed_content(chapter_content):\n",
        "    embeddings = OpenAIEmbeddings()\n",
        "    return embeddings.embed_text(chapter_content)"
      ],
      "metadata": {
        "id": "1DFOEorZZ9UP"
      },
      "execution_count": null,
      "outputs": []
    },
    {
      "cell_type": "markdown",
      "source": [
        "#### 2.2. Buscar o Conteúdo Mais Relevante"
      ],
      "metadata": {
        "id": "mcE1G4k4aED7"
      }
    },
    {
      "cell_type": "code",
      "source": [
        "from sklearn.metrics.pairwise import cosine_similarity\n",
        "\n",
        "def find_closest_content(user_query, embeddings, chapter_embeddings):\n",
        "    user_vector = embeddings.embed_text(user_query)\n",
        "    similarities = cosine_similarity([user_vector], chapter_embeddings)\n",
        "    closest_index = similarities.argmax()\n",
        "    return closest_index"
      ],
      "metadata": {
        "id": "cR0JLuWJaFjI"
      },
      "execution_count": null,
      "outputs": []
    },
    {
      "cell_type": "markdown",
      "source": [
        "## **3. Implementar Métricas de Progresso**\n",
        "\n"
      ],
      "metadata": {
        "id": "k_SiaxtZaI1M"
      }
    },
    {
      "cell_type": "markdown",
      "source": [
        "### **Passo 1: Criar Banco de Dados para Métricas**\n",
        "Use SQLite ou um serviço como Firebase para armazenar o progresso do aluno.\n",
        "\n",
        "```sql\n",
        "CREATE TABLE metrics (\n",
        "    id INTEGER PRIMARY KEY,\n",
        "    user_id INTEGER,\n",
        "    chapter TEXT,\n",
        "    score REAL,\n",
        "    timestamp DATETIME DEFAULT CURRENT_TIMESTAMP\n",
        ");\n",
        "\n"
      ],
      "metadata": {
        "id": "zQ6yEFR9aPWn"
      }
    },
    {
      "cell_type": "markdown",
      "source": [
        "### **Passo 2: Atualizar Métricas no Fluxo do Chatbot**\n",
        "Adicione um endpoint para registrar as métricas:\n",
        "```python\n",
        "import sqlite3\n",
        "\n",
        "@app.route('/update_metrics', methods=['POST'])\n",
        "def update_metrics():\n",
        "    data = request.json\n",
        "    user_id = data.get('user_id')\n",
        "    chapter = data.get('chapter')\n",
        "    score = data.get('score')\n",
        "\n",
        "    conn = sqlite3.connect('metrics.db')\n",
        "    cursor = conn.cursor()\n",
        "    cursor.execute(\"INSERT INTO metrics (user_id, chapter, score) VALUES (?, ?, ?)\",\n",
        "                   (user_id, chapter, score))\n",
        "    conn.commit()\n",
        "    conn.close()\n",
        "    return jsonify({'message': 'Metrics updated successfully'})\n",
        "\n"
      ],
      "metadata": {
        "id": "xcHxJtqOaXJu"
      }
    },
    {
      "cell_type": "markdown",
      "source": [
        "---\n"
      ],
      "metadata": {
        "id": "vDMAPVwhhczN"
      }
    },
    {
      "cell_type": "markdown",
      "source": [
        "# Próximos passos para o protótipo"
      ],
      "metadata": {
        "id": "kcbPmmomhd54"
      }
    },
    {
      "cell_type": "markdown",
      "source": [
        "* Como utilizar IA Generativa para gerar perguntas ('TransferLearning')\n",
        "* Como organizar o banco de dados para treinar modelo generativo (RAGs, Fine-Tuning)\n",
        "* Como correlacionar código a diferentes opções de estudo (Perguntas dissertativas, multiplaescolha, imagens, audios, etc)"
      ],
      "metadata": {
        "id": "thlM7xr7hgwG"
      }
    }
  ]
}