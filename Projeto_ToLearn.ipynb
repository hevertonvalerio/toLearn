{
  "nbformat": 4,
  "nbformat_minor": 0,
  "metadata": {
    "colab": {
      "provenance": [],
      "authorship_tag": "ABX9TyMm2yhbT9Gs0EGV2cB2Xx06",
      "include_colab_link": true
    },
    "kernelspec": {
      "name": "python3",
      "display_name": "Python 3"
    },
    "language_info": {
      "name": "python"
    }
  },
  "cells": [
    {
      "cell_type": "markdown",
      "metadata": {
        "id": "view-in-github",
        "colab_type": "text"
      },
      "source": [
        "<a href=\"https://colab.research.google.com/github/hevertonvalerio/toLearn/blob/main/Projeto_ToLearn.ipynb\" target=\"_parent\"><img src=\"https://colab.research.google.com/assets/colab-badge.svg\" alt=\"Open In Colab\"/></a>"
      ]
    },
    {
      "cell_type": "markdown",
      "source": [
        "Eles irão apresentar-se na segunda 16/12\n"
      ],
      "metadata": {
        "id": "MvKwKoDslMjK"
      }
    },
    {
      "cell_type": "markdown",
      "source": [
        "Planejar desenvolvimento de sistema para correção textual\n"
      ],
      "metadata": {
        "id": "7AOaIOFLlPji"
      }
    },
    {
      "cell_type": "code",
      "execution_count": null,
      "metadata": {
        "id": "oFDrrSMWlBtR"
      },
      "outputs": [],
      "source": []
    },
    {
      "cell_type": "markdown",
      "source": [
        "\n",
        "### **Pipeline Simplificado:**\n",
        "1. **Entrada**: Receber imagem do documento.\n",
        "2. **Pré-processamento**: Limpeza e alinhamento.\n",
        "3. **OCR**: Extração de texto.\n",
        "4. **Parsing**: Estruturação dos dados.\n",
        "5. **Embedding**: Vetorizamos respota do aluno e gabarito do professor.\n",
        "6. **Cálculo de Vetores**: Apresenta o resultado da relação entre respota e gabarito."
      ],
      "metadata": {
        "id": "Dq64PuG5Tzc8"
      }
    },
    {
      "cell_type": "markdown",
      "source": [
        "https://journal.unoeste.br/index.php/ce/article/view/4595/3583"
      ],
      "metadata": {
        "id": "UABpQC_7V3rM"
      }
    },
    {
      "cell_type": "markdown",
      "source": [],
      "metadata": {
        "id": "3WurvhRKV_88"
      }
    }
  ]
}