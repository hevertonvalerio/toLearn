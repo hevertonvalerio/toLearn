{
  "nbformat": 4,
  "nbformat_minor": 0,
  "metadata": {
    "colab": {
      "provenance": [],
      "authorship_tag": "ABX9TyNju8Lr8nlLZ6t5adjHfzRb",
      "include_colab_link": true
    },
    "kernelspec": {
      "name": "python3",
      "display_name": "Python 3"
    },
    "language_info": {
      "name": "python"
    }
  },
  "cells": [
    {
      "cell_type": "markdown",
      "metadata": {
        "id": "view-in-github",
        "colab_type": "text"
      },
      "source": [
        "<a href=\"https://colab.research.google.com/github/hevertonvalerio/toLearn/blob/main/Projeto_ToLearn.ipynb\" target=\"_parent\"><img src=\"https://colab.research.google.com/assets/colab-badge.svg\" alt=\"Open In Colab\"/></a>"
      ]
    },
    {
      "cell_type": "markdown",
      "source": [
        "Eles irão apresentar-se na segunda 16/12\n"
      ],
      "metadata": {
        "id": "MvKwKoDslMjK"
      }
    },
    {
      "cell_type": "markdown",
      "source": [
        "Planejar desenvolvimento de sistema para correção textual\n"
      ],
      "metadata": {
        "id": "7AOaIOFLlPji"
      }
    },
    {
      "cell_type": "code",
      "execution_count": null,
      "metadata": {
        "id": "oFDrrSMWlBtR"
      },
      "outputs": [],
      "source": []
    },
    {
      "cell_type": "markdown",
      "source": [
        "\n",
        "### **Pipeline Simplificado:**\n",
        "1. **Entrada**: Receber imagem do documento.\n",
        "2. **Pré-processamento**: Limpeza e alinhamento.\n",
        "3. **OCR**: Extração de texto.\n",
        "4. **Parsing**: Estruturação dos dados.\n",
        "5. **Embedding**: Vetorizamos respota do aluno e gabarito do professor.\n",
        "6. **Coeficiente Kappa**: Apresenta o resultado da relação entre respota e gabarito.\n"
      ],
      "metadata": {
        "id": "Dq64PuG5Tzc8"
      }
    },
    {
      "cell_type": "markdown",
      "source": [
        "https://journal.unoeste.br/index.php/ce/article/view/4595/3583"
      ],
      "metadata": {
        "id": "UABpQC_7V3rM"
      }
    },
    {
      "cell_type": "markdown",
      "source": [
        "![imagem](https://raw.githubusercontent.com/hevertonvalerio/toLearn/refs/heads/main/image.png?token=GHSAT0AAAAAAC3M3GJQ2LZAGWLWPK3KVGOIZ2YVNWA)"
      ],
      "metadata": {
        "id": "3WurvhRKV_88"
      }
    },
    {
      "cell_type": "markdown",
      "source": [
        "![](https://raw.githubusercontent.com/hevertonvalerio/toLearn/refs/heads/main/preprocessing.png?token=GHSAT0AAAAAAC3M3GJRSVKLMZOAPWHV5UXEZ2YVWMA)"
      ],
      "metadata": {
        "id": "3YOy04cuZUk9"
      }
    },
    {
      "cell_type": "markdown",
      "source": [
        "---"
      ],
      "metadata": {
        "id": "UihSECsIeIpz"
      }
    },
    {
      "cell_type": "code",
      "source": [
        "from sentence_transformers import SentenceTransformer, util\n",
        "\n",
        "# Modelo para embeddings semânticos\n",
        "model = SentenceTransformer('paraphrase-multilingual-MiniLM-L12-v2')\n",
        "\n",
        "def avaliar_respostas(respostas_alunos, gabaritos):\n",
        "    \"\"\"\n",
        "    Avalia respostas dissertativas com base na similaridade semântica.\n",
        "\n",
        "    :param respostas_alunos: Lista de respostas fornecidas pelos alunos.\n",
        "    :param gabaritos: Lista de gabaritos correspondentes às perguntas.\n",
        "    :return: Lista de resultados contendo similaridade, classificação e justificativa.\n",
        "    \"\"\"\n",
        "    resultados = []\n",
        "\n",
        "    for i, (resposta, gabarito) in enumerate(zip(respostas_alunos, gabaritos)):\n",
        "        # Calcula a similaridade semântica\n",
        "        embedding_resposta = model.encode(resposta, convert_to_tensor=True)\n",
        "        embedding_gabarito = model.encode(gabarito, convert_to_tensor=True)\n",
        "        similaridade = util.cos_sim(embedding_resposta, embedding_gabarito).item()\n",
        "\n",
        "        # Define a classificação com base na similaridade\n",
        "        if similaridade >= 0.8:\n",
        "            classificacao = \"Certo\"\n",
        "            justificativa = \"A resposta está muito alinhada ao gabarito.\"\n",
        "        elif 0.5 <= similaridade < 0.8:\n",
        "            classificacao = \"Meio Certo\"\n",
        "            justificativa = \"A resposta aborda parcialmente o gabarito.\"\n",
        "        else:\n",
        "            classificacao = \"Errado\"\n",
        "            justificativa = \"A resposta não reflete o gabarito.\"\n",
        "\n",
        "        # Adiciona o resultado\n",
        "        resultados.append({\n",
        "            \"Pergunta\": i + 1,\n",
        "            \"Resposta do Aluno\": resposta,\n",
        "            \"Gabarito\": gabarito,\n",
        "            \"Similaridade\": round(similaridade, 2),\n",
        "            \"Classificação\": classificacao,\n",
        "            \"Justificativa\": justificativa\n",
        "        })\n",
        "\n",
        "    return resultados\n",
        "\n",
        "# Exemplo de uso\n",
        "respostas_alunos = [\n",
        "    \"A fotossíntese é o processo pelo qual as plantas produzem energia a partir do sol.\",\n",
        "    \"A água é absorvida pelas raízes e ajuda no crescimento da planta.\",\n",
        "    \"As plantas respiram como os humanos.\"\n",
        "]\n",
        "\n",
        "gabaritos = [\n",
        "    \"A fotossíntese é o processo em que as plantas convertem energia solar em energia química, utilizando água e dióxido de carbono.\",\n",
        "    \"As plantas absorvem água pelas raízes, essencial para o transporte de nutrientes e crescimento.\",\n",
        "    \"As plantas utilizam dióxido de carbono e liberam oxigênio no processo de fotossíntese.\"\n",
        "]\n",
        "\n",
        "resultados = avaliar_respostas(respostas_alunos, gabaritos)\n",
        "\n",
        "# Exibindo os resultados\n",
        "for resultado in resultados:\n",
        "    print(f\"Pergunta {resultado['Pergunta']}:\")\n",
        "    print(f\"Resposta do Aluno: {resultado['Resposta do Aluno']}\")\n",
        "    print(f\"Gabarito: {resultado['Gabarito']}\")\n",
        "    print(f\"Similaridade: {resultado['Similaridade']}\")\n",
        "    print(f\"Classificação: {resultado['Classificação']}\")\n",
        "    print(f\"Justificativa: {resultado['Justificativa']}\\n\")\n"
      ],
      "metadata": {
        "colab": {
          "base_uri": "https://localhost:8080/"
        },
        "id": "q8-2fZKxeJBq",
        "outputId": "3437c379-0cb1-40f7-949f-fb7bf3e54acb"
      },
      "execution_count": null,
      "outputs": [
        {
          "output_type": "stream",
          "name": "stdout",
          "text": [
            "Pergunta 1:\n",
            "Resposta do Aluno: A fotossíntese é o processo pelo qual as plantas produzem energia a partir do sol.\n",
            "Gabarito: A fotossíntese é o processo em que as plantas convertem energia solar em energia química, utilizando água e dióxido de carbono.\n",
            "Similaridade: 0.9\n",
            "Classificação: Certo\n",
            "Justificativa: A resposta está muito alinhada ao gabarito.\n",
            "\n",
            "Pergunta 2:\n",
            "Resposta do Aluno: A água é absorvida pelas raízes e ajuda no crescimento da planta.\n",
            "Gabarito: As plantas absorvem água pelas raízes, essencial para o transporte de nutrientes e crescimento.\n",
            "Similaridade: 0.92\n",
            "Classificação: Certo\n",
            "Justificativa: A resposta está muito alinhada ao gabarito.\n",
            "\n",
            "Pergunta 3:\n",
            "Resposta do Aluno: As plantas respiram como os humanos.\n",
            "Gabarito: As plantas utilizam dióxido de carbono e liberam oxigênio no processo de fotossíntese.\n",
            "Similaridade: 0.5\n",
            "Classificação: Errado\n",
            "Justificativa: A resposta não reflete o gabarito.\n",
            "\n"
          ]
        }
      ]
    },
    {
      "cell_type": "code",
      "source": [
        "# Exemplo de uso\n",
        "respostas_alunos = [\n",
        "    \"A fotossíntese é o processo em que as plantas convertem energia solar em energia química, utilizando água e dióxido \",\n",
        "    \"A água é absorvida pelas raízes e ajuda no crescimento da planta.\",\n",
        "    \"As plantas respiram como os humanos.\"\n",
        "]\n",
        "\n",
        "gabaritos = [\n",
        "    \"A fotossíntese é o processo em que as plantas convertem energia solar em energia química, utilizando água e dióxido de carbono.\",\n",
        "    \"As plantas absorvem água pelas raízes, essencial para o transporte de nutrientes e crescimento.\",\n",
        "    \"As plantas utilizam dióxido de carbono e liberam oxigênio no processo de fotossíntese.\"\n",
        "]\n",
        "\n",
        "resultados = avaliar_respostas(respostas_alunos, gabaritos)\n",
        "\n",
        "# Exibindo os resultados\n",
        "for resultado in resultados:\n",
        "    print(f\"Pergunta {resultado['Pergunta']}:\")\n",
        "    print(f\"Resposta do Aluno: {resultado['Resposta do Aluno']}\")\n",
        "    print(f\"Gabarito: {resultado['Gabarito']}\")\n",
        "    print(f\"Similaridade: {resultado['Similaridade']}\")\n",
        "    print(f\"Classificação: {resultado['Classificação']}\")\n",
        "    print(f\"Justificativa: {resultado['Justificativa']}\\n\")"
      ],
      "metadata": {
        "colab": {
          "base_uri": "https://localhost:8080/"
        },
        "id": "Et84eKy3ephL",
        "outputId": "25a5dc76-9dc0-4938-880a-2cc8a001c591"
      },
      "execution_count": null,
      "outputs": [
        {
          "output_type": "stream",
          "name": "stdout",
          "text": [
            "Pergunta 1:\n",
            "Resposta do Aluno: A fotossíntese é o processo em que as plantas convertem energia solar em energia química, utilizando água e dióxido \n",
            "Gabarito: A fotossíntese é o processo em que as plantas convertem energia solar em energia química, utilizando água e dióxido de carbono.\n",
            "Similaridade: 0.99\n",
            "Classificação: Certo\n",
            "Justificativa: A resposta está muito alinhada ao gabarito.\n",
            "\n",
            "Pergunta 2:\n",
            "Resposta do Aluno: A água é absorvida pelas raízes e ajuda no crescimento da planta.\n",
            "Gabarito: As plantas absorvem água pelas raízes, essencial para o transporte de nutrientes e crescimento.\n",
            "Similaridade: 0.92\n",
            "Classificação: Certo\n",
            "Justificativa: A resposta está muito alinhada ao gabarito.\n",
            "\n",
            "Pergunta 3:\n",
            "Resposta do Aluno: As plantas respiram como os humanos.\n",
            "Gabarito: As plantas utilizam dióxido de carbono e liberam oxigênio no processo de fotossíntese.\n",
            "Similaridade: 0.5\n",
            "Classificação: Errado\n",
            "Justificativa: A resposta não reflete o gabarito.\n",
            "\n"
          ]
        }
      ]
    }
  ]
}