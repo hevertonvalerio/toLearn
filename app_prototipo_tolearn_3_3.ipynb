{
  "cells": [
    {
      "cell_type": "markdown",
      "metadata": {
        "id": "view-in-github",
        "colab_type": "text"
      },
      "source": [
        "<a href=\"https://colab.research.google.com/github/hevertonvalerio/toLearn/blob/main/app_prototipo_tolearn_3_3.ipynb\" target=\"_parent\"><img src=\"https://colab.research.google.com/assets/colab-badge.svg\" alt=\"Open In Colab\"/></a>"
      ]
    },
    {
      "cell_type": "markdown",
      "metadata": {
        "id": "TSOsIF6HuoGQ"
      },
      "source": [
        "# Protótipo 3"
      ]
    },
    {
      "cell_type": "markdown",
      "metadata": {
        "id": "QKUsHm60yE6d"
      },
      "source": [
        "#2.0"
      ]
    },
    {
      "cell_type": "code",
      "execution_count": 2,
      "metadata": {
        "id": "b5Av54CN0S_a",
        "colab": {
          "base_uri": "https://localhost:8080/"
        },
        "outputId": "5b589b5d-53d7-4c69-a4ff-a8fa4d49f4ac"
      },
      "outputs": [
        {
          "output_type": "stream",
          "name": "stdout",
          "text": [
            "\u001b[2K   \u001b[90m━━━━━━━━━━━━━━━━━━━━━━━━━━━━━━━━━━━━━━━━\u001b[0m \u001b[32m1.6/1.6 MB\u001b[0m \u001b[31m19.7 MB/s\u001b[0m eta \u001b[36m0:00:00\u001b[0m\n",
            "\u001b[2K   \u001b[90m━━━━━━━━━━━━━━━━━━━━━━━━━━━━━━━━━━━━━━━━\u001b[0m \u001b[32m1.2/1.2 MB\u001b[0m \u001b[31m37.7 MB/s\u001b[0m eta \u001b[36m0:00:00\u001b[0m\n",
            "\u001b[2K   \u001b[90m━━━━━━━━━━━━━━━━━━━━━━━━━━━━━━━━━━━━━━━━\u001b[0m \u001b[32m49.6/49.6 kB\u001b[0m \u001b[31m1.7 MB/s\u001b[0m eta \u001b[36m0:00:00\u001b[0m\n",
            "\u001b[2K   \u001b[90m━━━━━━━━━━━━━━━━━━━━━━━━━━━━━━━━━━━━━━━━\u001b[0m \u001b[32m241.0/241.0 kB\u001b[0m \u001b[31m9.1 MB/s\u001b[0m eta \u001b[36m0:00:00\u001b[0m\n",
            "\u001b[2K   \u001b[90m━━━━━━━━━━━━━━━━━━━━━━━━━━━━━━━━━━━━━━━━\u001b[0m \u001b[32m298.0/298.0 kB\u001b[0m \u001b[31m22.2 MB/s\u001b[0m eta \u001b[36m0:00:00\u001b[0m\n",
            "\u001b[2K   \u001b[90m━━━━━━━━━━━━━━━━━━━━━━━━━━━━━━━━━━━━━━━━\u001b[0m \u001b[32m57.6/57.6 MB\u001b[0m \u001b[31m14.6 MB/s\u001b[0m eta \u001b[36m0:00:00\u001b[0m\n",
            "\u001b[2K   \u001b[90m━━━━━━━━━━━━━━━━━━━━━━━━━━━━━━━━━━━━━━━━\u001b[0m \u001b[32m321.4/321.4 kB\u001b[0m \u001b[31m21.0 MB/s\u001b[0m eta \u001b[36m0:00:00\u001b[0m\n",
            "\u001b[2K   \u001b[90m━━━━━━━━━━━━━━━━━━━━━━━━━━━━━━━━━━━━━━━━\u001b[0m \u001b[32m94.8/94.8 kB\u001b[0m \u001b[31m6.8 MB/s\u001b[0m eta \u001b[36m0:00:00\u001b[0m\n",
            "\u001b[2K   \u001b[90m━━━━━━━━━━━━━━━━━━━━━━━━━━━━━━━━━━━━━━━━\u001b[0m \u001b[32m12.4/12.4 MB\u001b[0m \u001b[31m88.5 MB/s\u001b[0m eta \u001b[36m0:00:00\u001b[0m\n",
            "\u001b[2K   \u001b[90m━━━━━━━━━━━━━━━━━━━━━━━━━━━━━━━━━━━━━━━━\u001b[0m \u001b[32m73.2/73.2 kB\u001b[0m \u001b[31m5.1 MB/s\u001b[0m eta \u001b[36m0:00:00\u001b[0m\n",
            "\u001b[2K   \u001b[90m━━━━━━━━━━━━━━━━━━━━━━━━━━━━━━━━━━━━━━━━\u001b[0m \u001b[32m62.3/62.3 kB\u001b[0m \u001b[31m4.3 MB/s\u001b[0m eta \u001b[36m0:00:00\u001b[0m\n",
            "\u001b[2K     \u001b[90m━━━━━━━━━━━━━━━━━━━━━━━━━━━━━━━━━━━━━━━━\u001b[0m \u001b[32m80.6/80.6 kB\u001b[0m \u001b[31m2.2 MB/s\u001b[0m eta \u001b[36m0:00:00\u001b[0m\n",
            "\u001b[2K   \u001b[90m━━━━━━━━━━━━━━━━━━━━━━━━━━━━━━━━━━━━━━━━\u001b[0m \u001b[32m187.6/187.6 kB\u001b[0m \u001b[31m6.9 MB/s\u001b[0m eta \u001b[36m0:00:00\u001b[0m\n",
            "\u001b[2K   \u001b[90m━━━━━━━━━━━━━━━━━━━━━━━━━━━━━━━━━━━━━━━━\u001b[0m \u001b[32m251.7/251.7 kB\u001b[0m \u001b[31m16.6 MB/s\u001b[0m eta \u001b[36m0:00:00\u001b[0m\n",
            "\u001b[2K   \u001b[90m━━━━━━━━━━━━━━━━━━━━━━━━━━━━━━━━━━━━━━━━\u001b[0m \u001b[32m261.3/261.3 kB\u001b[0m \u001b[31m17.1 MB/s\u001b[0m eta \u001b[36m0:00:00\u001b[0m\n",
            "\u001b[2K   \u001b[90m━━━━━━━━━━━━━━━━━━━━━━━━━━━━━━━━━━━━━━━━\u001b[0m \u001b[32m198.9/198.9 kB\u001b[0m \u001b[31m13.1 MB/s\u001b[0m eta \u001b[36m0:00:00\u001b[0m\n",
            "\u001b[2K   \u001b[90m━━━━━━━━━━━━━━━━━━━━━━━━━━━━━━━━━━━━━━━━\u001b[0m \u001b[32m3.3/3.3 MB\u001b[0m \u001b[31m61.3 MB/s\u001b[0m eta \u001b[36m0:00:00\u001b[0m\n",
            "\u001b[2K   \u001b[90m━━━━━━━━━━━━━━━━━━━━━━━━━━━━━━━━━━━━━━━━\u001b[0m \u001b[32m113.2/113.2 kB\u001b[0m \u001b[31m8.3 MB/s\u001b[0m eta \u001b[36m0:00:00\u001b[0m\n",
            "\u001b[?25h  Preparing metadata (setup.py) ... \u001b[?25l\u001b[?25hdone\n",
            "  Building wheel for fpdf (setup.py) ... \u001b[?25l\u001b[?25hdone\n",
            "\u001b[2K   \u001b[90m━━━━━━━━━━━━━━━━━━━━━━━━━━━━━━━━━━━━━━━━\u001b[0m \u001b[32m232.6/232.6 kB\u001b[0m \u001b[31m3.7 MB/s\u001b[0m eta \u001b[36m0:00:00\u001b[0m\n",
            "\u001b[?25h"
          ]
        }
      ],
      "source": [
        "!pip install llama_index.llms.groq -q\n",
        "!pip install llama_index -q\n",
        "!pip install gradio -q\n",
        "!pip install llama_index.experimental -q\n",
        "!pip install fpdf -q\n",
        "!pip install PyPDF2 -q\n",
        "!pip install sentence_transformers -q"
      ]
    },
    {
      "cell_type": "code",
      "execution_count": 3,
      "metadata": {
        "id": "Bs8Wv1IH0S_b"
      },
      "outputs": [],
      "source": [
        "from llama_index.core.chat_engine import SimpleChatEngine\n",
        "from llama_index.core import Settings\n",
        "from google.colab import userdata\n",
        "import gradio as gr\n",
        "import os\n",
        "import sqlite3\n",
        "from PyPDF2 import PdfReader\n",
        "\n",
        "from llama_index.llms.groq import Groq\n",
        "from sentence_transformers import SentenceTransformer, util"
      ]
    },
    {
      "cell_type": "code",
      "execution_count": null,
      "metadata": {
        "colab": {
          "base_uri": "https://localhost:8080/"
        },
        "id": "sih_gfef0S_b",
        "outputId": "3ca1927c-2529-49b2-8122-1d6a791036b9"
      },
      "outputs": [
        {
          "output_type": "stream",
          "name": "stderr",
          "text": [
            "/usr/local/lib/python3.11/dist-packages/huggingface_hub/utils/_auth.py:94: UserWarning: \n",
            "The secret `HF_TOKEN` does not exist in your Colab secrets.\n",
            "To authenticate with the Hugging Face Hub, create a token in your settings tab (https://huggingface.co/settings/tokens), set it as secret in your Google Colab and restart your session.\n",
            "You will be able to reuse this secret in all of your notebooks.\n",
            "Please note that authentication is recommended but still optional to access public models or datasets.\n",
            "  warnings.warn(\n"
          ]
        }
      ],
      "source": [
        "# API KEY do GROQ\n",
        "#api_key = os.getenv(\"GROQ_API\")\n",
        "key = userdata.get('GROQ_API')\n",
        "\n",
        "\n",
        "# Configuração do modelo\n",
        "#llm = Groq(model=\"llama3-70b-8192\", api_key=api_key)\n",
        "Settings.llm = Groq(model='llama3-70b-8192', api_key=key)\n",
        "\n",
        "chat_engine = SimpleChatEngine.from_defaults()\n",
        "model = SentenceTransformer('paraphrase-multilingual-MiniLM-L12-v2')"
      ]
    },
    {
      "cell_type": "markdown",
      "metadata": {
        "id": "X7hdxpDxy35G"
      },
      "source": [
        "## Start"
      ]
    },
    {
      "cell_type": "markdown",
      "metadata": {
        "id": "1VW8fvIkPabP"
      },
      "source": [
        "### Crie um caderno ou abra um caderno novo"
      ]
    },
    {
      "cell_type": "code",
      "execution_count": null,
      "metadata": {
        "id": "obZP9QS-19ko"
      },
      "outputs": [],
      "source": [
        "# Código da interface para criar um novo caderno."
      ]
    },
    {
      "cell_type": "markdown",
      "metadata": {
        "id": "sWVWcusoPijX"
      },
      "source": [
        "### Selecione a matéria que irá estudar"
      ]
    },
    {
      "cell_type": "markdown",
      "metadata": {
        "id": "DgPPRU_c2JGc"
      },
      "source": [
        "#### Criando DBs"
      ]
    },
    {
      "cell_type": "code",
      "execution_count": 4,
      "metadata": {
        "colab": {
          "base_uri": "https://localhost:8080/"
        },
        "id": "n7aEqByPgMS5",
        "outputId": "dc94d088-f536-46a5-ad76-b1307c0fc713"
      },
      "outputs": [
        {
          "output_type": "stream",
          "name": "stdout",
          "text": [
            "Bancos de dados criados com sucesso!\n"
          ]
        }
      ],
      "source": [
        "# DBs 2.0\n",
        "\n",
        "# Função para criar tabelas de questões\n",
        "def create_questions_table(conn):\n",
        "    cursor = conn.cursor()\n",
        "    cursor.execute(\"\"\"\n",
        "        CREATE TABLE IF NOT EXISTS questions (\n",
        "            id INTEGER PRIMARY KEY AUTOINCREMENT,\n",
        "            question TEXT NOT NULL,\n",
        "            option_a TEXT NOT NULL,\n",
        "            option_b TEXT NOT NULL,\n",
        "            option_c TEXT NOT NULL,\n",
        "            option_d TEXT NOT NULL,\n",
        "            correct_option TEXT NOT NULL,\n",
        "            complete_question TEXT NOT NULL,\n",
        "            complete_question_answer TEXT NOT NULL\n",
        "        )\n",
        "    \"\"\")\n",
        "    conn.commit()\n",
        "\n",
        "# Função para criar tabela de conteúdos\n",
        "def create_content_table(conn):\n",
        "    cursor = conn.cursor()\n",
        "    cursor.execute(\"\"\"\n",
        "        CREATE TABLE IF NOT EXISTS content (\n",
        "            id INTEGER PRIMARY KEY AUTOINCREMENT,\n",
        "            materia TEXT NOT NULL,\n",
        "            conteudo_1 TEXT NOT NULL,\n",
        "            conteudo_2 TEXT NOT NULL\n",
        "        )\n",
        "    \"\"\")\n",
        "    conn.commit()\n",
        "\n",
        "# Função para inserir dados de questões\n",
        "def insert_questions(conn, questions):\n",
        "    cursor = conn.cursor()\n",
        "    cursor.executemany(\"\"\"\n",
        "        INSERT INTO questions (question, option_a, option_b, option_c, option_d, correct_option, complete_question, complete_question_answer)\n",
        "        VALUES (?, ?, ?, ?, ?, ?, ?, ?)\n",
        "    \"\"\", questions)\n",
        "    conn.commit()\n",
        "\n",
        "# Função para inserir dados de conteúdos\n",
        "def insert_content(conn, contents):\n",
        "    cursor = conn.cursor()\n",
        "    cursor.executemany(\"\"\"\n",
        "        INSERT INTO content (materia, conteudo_1, conteudo_2)\n",
        "        VALUES (?, ?, ?)\n",
        "    \"\"\", contents)\n",
        "    conn.commit()\n",
        "\n",
        "# Criando os bancos de dados\n",
        "def create_databases():\n",
        "    # Banco de Matemática\n",
        "    math_conn = sqlite3.connect(\"banco_matematica.db\")\n",
        "    create_questions_table(math_conn)\n",
        "    create_content_table(math_conn)\n",
        "    insert_questions(math_conn, [\n",
        "        (\"Quanto é 2 + 2?\", \"3\", \"4\", \"5\", \"6\", \"B\", \"A equação y = ax + b representa uma função do ____ grau, onde 'a' é o coeficiente ____ e 'b' é o coeficiente ____.\", \"primeiro, angular, linear\"),\n",
        "        (\"Qual é o quadrado de 5?\", \"20\", \"10\", \"25\", \"15\", \"C\",  \"Na equação y = ax + b, o coeficiente ____ determina a inclinação da reta, enquanto o coeficiente ____ indica o ponto onde a reta intercepta o eixo ____.\", \"angular, linear, y\")\n",
        "    ])\n",
        "    insert_content(math_conn, [\n",
        "        (\"Matemática\", \"Funções do 1º Grau\", \"Análise detalhada de funções lineares representadas pela fórmula y = ax + b, onde a é o coeficiente angular, responsável pela inclinação da reta, e b é o coeficiente linear, que indica o ponto onde a reta intercepta o eixo y. Exemplos práticos incluem cálculos de custos, receitas e trajetórias.\"),\n",
        "        (\"Matemática\", \"Progressões Aritméticas (PA)\", \"Estudo de sequências numéricas onde a diferença entre termos consecutivos é constante, abordando a fórmula geral an = a1 + (n-1)d, onde d é a razão, e o cálculo da soma dos n primeiros termos, com aplicações em finanças e organização de padrões.\")\n",
        "    ])\n",
        "    math_conn.close()\n",
        "\n",
        "    # Banco de História\n",
        "    history_conn = sqlite3.connect(\"banco_historia.db\")\n",
        "    create_questions_table(history_conn)\n",
        "    create_content_table(history_conn)\n",
        "    insert_questions(history_conn, [\n",
        "        (\"Quem foi o primeiro presidente do Brasil?\", \"Getúlio Vargas\", \"Dom Pedro II\", \"Deodoro da Fonseca\", \"Juscelino Kubitschek\", \"C\", \"O período conhecido como Primeira República no Brasil começou com a ____ da República e foi marcado por governos de ____ e ____.\", \"Proclamação, militares, civis\"),\n",
        "        (\"Em que ano ocorreu a Proclamação da República?\", \"1888\", \"1889\", \"1890\", \"1877\", \"B\", \"A Era Vargas foi marcada por políticas ____ e desenvolvimento ____ no Brasil.\", \"trabalhistas, industrial\")\n",
        "    ])\n",
        "    insert_content(history_conn, [\n",
        "        (\"História\", \"Primeira República\", \"Período caracterizado pela Proclamação da República e o governo de presidentes militares e civis, consolidando o regime republicano no Brasil.\"),\n",
        "        (\"História\", \"Era Vargas\", \"Estudo do governo de Getúlio Vargas, abrangendo o Estado Novo, políticas trabalhistas e desenvolvimento industrial.\")\n",
        "    ])\n",
        "    history_conn.close()\n",
        "\n",
        "    # Banco de Biologia\n",
        "    biology_conn = sqlite3.connect(\"banco_biologia.db\")\n",
        "    create_questions_table(biology_conn)\n",
        "    create_content_table(biology_conn)\n",
        "    insert_questions(biology_conn, [\n",
        "        (\"Qual é a unidade básica da vida?\", \"Célula\", \"Átomo\", \"Tecido\", \"Órgão\", \"A\",  \"As células ____ possuem núcleo definido, enquanto as células ____ não possuem núcleo definido.\", \"eucarióticas, procarióticas\"),\n",
        "        (\"O que é fotossíntese?\", \"Processo de respiração celular\", \"Transformação de luz em energia química\", \"Divisão celular\", \"Ciclo de Krebs\", \"B\", \"Os ecossistemas são sistemas de interação entre seres ____ e o ____ ambiente, essenciais para o equilíbrio ecológico.\", \"vivos, meio\")\n",
        "    ])\n",
        "    insert_content(biology_conn, [\n",
        "        (\"Biologia\", \"Célula eucariótica e procariótica\", \"Análise das diferenças entre células com núcleo definido (eucarióticas) e células sem núcleo definido (procarióticas), abrangendo funções e estruturas.\"),\n",
        "        (\"Biologia\", \"Ecosistemas e biodiversidade\", \"Estudo das interações entre seres vivos e o meio ambiente, abordando o equilíbrio ecológico e a conservação da biodiversidade.\")\n",
        "    ])\n",
        "    biology_conn.close()\n",
        "\n",
        "# Criar os bancos de dados\n",
        "create_databases()\n",
        "print(\"Bancos de dados criados com sucesso!\")\n"
      ]
    },
    {
      "cell_type": "markdown",
      "metadata": {
        "id": "PHdUru2h2K89"
      },
      "source": [
        "#### Código que disponbiliza opções de matérias"
      ]
    },
    {
      "cell_type": "markdown",
      "metadata": {
        "id": "yP0CiaLzPy9P"
      },
      "source": [
        "## Taxonomia de Bloom\n",
        "\n",
        "\n"
      ]
    },
    {
      "cell_type": "markdown",
      "metadata": {
        "id": "jnbUN5pBwiEy"
      },
      "source": [
        "### Lembrar"
      ]
    },
    {
      "cell_type": "markdown",
      "metadata": {
        "id": "gak495WFwjwK"
      },
      "source": [
        "### Compreender"
      ]
    },
    {
      "cell_type": "markdown",
      "metadata": {
        "id": "AypivP_Qdv0a"
      },
      "source": [
        "#### Teste prática de geração de questões por IA (2.0)"
      ]
    },
    {
      "cell_type": "code",
      "execution_count": null,
      "metadata": {
        "colab": {
          "base_uri": "https://localhost:8080/",
          "height": 646
        },
        "id": "3nqM4yj6eROZ",
        "outputId": "41863533-a3a9-4f34-964c-23e2dded28e1"
      },
      "outputs": [
        {
          "output_type": "stream",
          "name": "stdout",
          "text": [
            "Running Gradio in a Colab notebook requires sharing enabled. Automatically setting `share=True` (you can turn this off by setting `share=False` in `launch()` explicitly).\n",
            "\n",
            "Colab notebook detected. This cell will run indefinitely so that you can see errors and logs. To turn off, set debug=False in launch().\n",
            "* Running on public URL: https://d6e1cc840beb9c74a6.gradio.live\n",
            "\n",
            "This share link expires in 72 hours. For free permanent hosting and GPU upgrades, run `gradio deploy` from the terminal in the working directory to deploy to Hugging Face Spaces (https://huggingface.co/spaces)\n"
          ]
        },
        {
          "output_type": "display_data",
          "data": {
            "text/plain": [
              "<IPython.core.display.HTML object>"
            ],
            "text/html": [
              "<div><iframe src=\"https://d6e1cc840beb9c74a6.gradio.live\" width=\"100%\" height=\"500\" allow=\"autoplay; camera; microphone; clipboard-read; clipboard-write;\" frameborder=\"0\" allowfullscreen></iframe></div>"
            ]
          },
          "metadata": {}
        }
      ],
      "source": [
        "#Alternativa 6\n",
        "\n",
        "\n",
        "\n",
        "# Variáveis globais\n",
        "selected_subject = \"\"\n",
        "current_question = {}\n",
        "db_map = {\n",
        "    \"Matemática\": \"banco_matematica.db\",\n",
        "    \"História\": \"banco_historia.db\",\n",
        "    \"Biologia\": \"banco_biologia.db\",\n",
        "}\n",
        "\n",
        "# Função 0 para processar o que o aluno lembra\n",
        "def oq_lembro(input_lembro):\n",
        "  lembro = input_lembro\n",
        "  parabens = len(input_lembro)\n",
        "  return lembro, parabens\n",
        "\n",
        "\n",
        "# Função 1.2 Definir contéudo que o aluno deveria lembrar:\n",
        "def puxar_conteudo():\n",
        "    #global current_content\n",
        "\n",
        "    if not selected_subject:\n",
        "        return \"Por favor, selecione uma matéria antes de gerar perguntas.\"\n",
        "\n",
        "    db_path = db_map.get(selected_subject)\n",
        "    if not db_path:\n",
        "        return \"Banco de dados não encontrado para a matéria selecionada.\"\n",
        "\n",
        "    try:\n",
        "        conn = sqlite3.connect(db_path)\n",
        "        cursor = conn.cursor()\n",
        "        cursor.execute(\"SELECT conteudo_2 FROM content\")\n",
        "        row = cursor.fetchone()\n",
        "        conn.close()\n",
        "\n",
        "        if not row:\n",
        "            return \"Nenhuma conteúdo disponível no banco de dados.\"\n",
        "\n",
        "        # Extraindo o conteúdo da tupla\n",
        "        content_1 = row[0]\n",
        "\n",
        "        return content_1\n",
        "\n",
        "    except sqlite3.Error as e:\n",
        "        return f\"Erro ao acessar o banco de dados: {str(e)}\"\n",
        "\n",
        "\n",
        "# Função 0.1 para processar se é bom ou ruim o que o aluno disse que lembra\n",
        "def avaliar_respostas(respostas_alunos, gabaritos):\n",
        "    \"\"\"\n",
        "    Avalia respostas dissertativas com base na similaridade semântica.\n",
        "\n",
        "    :param respostas_alunos: Lista de respostas fornecidas pelos alunos.\n",
        "    :param gabaritos: Lista de gabaritos correspondentes às perguntas.\n",
        "    :return: Lista de resultados contendo similaridade, classificação e justificativa.\n",
        "    \"\"\"\n",
        "    # 1. Obter os valores do texto das caixas de texto\n",
        "    respostas_alunos = respostas_alunos  # Removendo .value\n",
        "    gabaritos = gabaritos  # Removendo .value\n",
        "\n",
        "    # 2. Transformar os valores em listas (se necessário)\n",
        "    respostas_alunos = [respostas_alunos]  # Transformar em uma lista com um elemento\n",
        "    gabaritos = [gabaritos]  # Transformar em uma lista com um elemento\n",
        "\n",
        "    resultados = []\n",
        "\n",
        "    for i, (resposta, gabarito) in enumerate(zip(respostas_alunos, gabaritos)):\n",
        "        # Verificar se resposta e gabarito não são None\n",
        "        if resposta is not None and gabarito is not None:\n",
        "            # Calcula a similaridade semântica\n",
        "            embedding_resposta = model.encode(resposta, convert_to_tensor=True)\n",
        "            embedding_gabarito = model.encode(gabarito, convert_to_tensor=True)\n",
        "            similaridade = util.cos_sim(embedding_resposta, embedding_gabarito).item()\n",
        "\n",
        "            # Define a classificação com base na similaridade\n",
        "            if similaridade >= 0.8:\n",
        "                classificacao = \"Certo\"\n",
        "                justificativa = \"A resposta está muito alinhada ao gabarito.\"\n",
        "            elif 0.5 <= similaridade < 0.8:\n",
        "                classificacao = \"Meio Certo\"\n",
        "                justificativa = \"A resposta aborda parcialmente o gabarito.\"\n",
        "            else:\n",
        "                classificacao = \"Errado\"\n",
        "                justificativa = \"A resposta não reflete o gabarito.\"\n",
        "\n",
        "            # Adiciona o resultado\n",
        "            resultados.append({\n",
        "                \"Pergunta\": i + 1,\n",
        "                \"Resposta do Aluno\": resposta,\n",
        "                \"Gabarito\": gabarito,\n",
        "                \"Similaridade\": round(similaridade*100, 2),\n",
        "                \"Classificação\": classificacao,\n",
        "                \"Justificativa\": justificativa\n",
        "            })\n",
        "        else:\n",
        "          print(\"Resposta ou gabarito inválidos (None).\")  # Adicionei um print para debug\n",
        "          return [{\n",
        "            \"Pergunta\": i+1,\n",
        "            \"Resposta do Aluno\": \"Resposta inválida (None)\",\n",
        "            \"Gabarito\": \"Gabarito inválido (None)\",\n",
        "            \"Similaridade\": 0,\n",
        "            \"Classificação\": \"Erro\",\n",
        "            \"Justificativa\": \"Resposta ou gabarito ausentes.\"\n",
        "        }]\n",
        "\n",
        "    return resultados\n",
        "\n",
        "\n",
        "\n",
        "\n",
        "\n",
        "# Função 1 para definir banco de dados com base na matéria\n",
        "def define_database(subject):\n",
        "    global selected_subject\n",
        "    selected_subject = subject\n",
        "    return f\"Banco de dados definido para {db_map.get(subject, 'desconhecido')}.\"\n",
        "\n",
        "\n",
        "# Função 1.5 para criar uma pergunta de complete a frase\n",
        "def complete_frase():\n",
        "    #global current_content\n",
        "\n",
        "  if not selected_subject:\n",
        "      return \"Por favor, selecione uma matéria antes de gerar perguntas.\"\n",
        "\n",
        "  db_path = db_map.get(selected_subject)\n",
        "  if not db_path:\n",
        "      return \"Banco de dados não encontrado para a matéria selecionada.\"\n",
        "\n",
        "  try:\n",
        "      conn = sqlite3.connect(db_path)\n",
        "      cursor = conn.cursor()\n",
        "      cursor.execute(\"SELECT complete_question FROM questions\")\n",
        "      row = cursor.fetchone()\n",
        "      conn.close()\n",
        "\n",
        "      if not row:\n",
        "          return \"Nenhuma conteúdo disponível no banco de dados.\"\n",
        "\n",
        "      # Extraindo o conteúdo da tupla\n",
        "      frase = row[0]\n",
        "\n",
        "      return frase\n",
        "\n",
        "  except sqlite3.Error as e:\n",
        "      return f\"Erro ao acessar o banco de dados: {str(e)}\"\n",
        "\n",
        "\n",
        "\n",
        "# Função 2 para gerar uma nova pergunta\n",
        "def gerar_pergunta():\n",
        "    global current_question\n",
        "\n",
        "    if not selected_subject:\n",
        "        return \"Por favor, selecione uma matéria antes de gerar perguntas.\", [\"\"], \"\"\n",
        "\n",
        "    db_path = db_map.get(selected_subject)\n",
        "    if not db_path:\n",
        "        return \"Banco de dados não encontrado para a matéria selecionada.\", [\"\"], \"\"\n",
        "\n",
        "    try:\n",
        "        conn = sqlite3.connect(db_path)\n",
        "        cursor = conn.cursor()\n",
        "        cursor.execute(\"SELECT question, option_a, option_b, option_c, option_d, correct_option FROM questions ORDER BY RANDOM() LIMIT 1;\")\n",
        "        row = cursor.fetchone()\n",
        "        conn.close()\n",
        "\n",
        "        if not row:\n",
        "            return \"Nenhuma pergunta disponível no banco de dados.\", [\"\"], \"\"\n",
        "\n",
        "        # Guardar a pergunta atual globalmente\n",
        "        current_question = {\n",
        "            \"question\": row[0],\n",
        "            \"options\": [row[1], row[2], row[3], row[4]],\n",
        "            \"correct_option\": row[5],\n",
        "        }\n",
        "        question, option_a, option_b, option_c, option_d, correct_option = row\n",
        "        pergunta_formatada = (\n",
        "            f\"Pergunta: {question}\\n\\n\"\n",
        "            f\"A) {option_a}\\n\"\n",
        "            f\"B) {option_b}\\n\"\n",
        "            f\"C) {option_c}\\n\"\n",
        "            f\"D) {option_d}\"\n",
        "        )\n",
        "\n",
        "        return pergunta_formatada, current_question['options'], \"\" ,\n",
        "\n",
        "    except sqlite3.Error as e:\n",
        "        return f\"Erro ao acessar o banco de dados: {str(e)}\", [\"\"], \"\"\n",
        "\n",
        "# Função 3 para verificar a resposta\n",
        "def verificar_resposta(selected_option):\n",
        "    if not current_question:\n",
        "        return \"Nenhuma pergunta disponível. Gere uma nova pergunta.\"\n",
        "\n",
        "    correct_option = current_question.get(\"correct_option\")\n",
        "    if selected_option == correct_option:\n",
        "        return \"Correto! 🎉\"\n",
        "    else:\n",
        "        return f\"Incorreto. A resposta correta era: {correct_option}.\"\n",
        "\n",
        "\n",
        "\n",
        "\n",
        "\n",
        "\n",
        "# Criação da interface Gradio\n",
        "with gr.Blocks(theme=\"Soft\") as app:\n",
        "\n",
        "    # Título da app\n",
        "    gr.Markdown(\"# ToLearn\")\n",
        "    gr.Markdown(\"## Taxonomia de Bloom - Quiz Interativo\")\n",
        "\n",
        "    # Seletor de matérias\n",
        "    materia_seletor = gr.Dropdown(\n",
        "        label=\"Selecione a Matéria\",\n",
        "        choices=[\"Matemática\", \"História\", \"Biologia\"],\n",
        "        value=\"Matemática\",\n",
        "    )\n",
        "\n",
        "    materia_status = gr.Textbox(label=\"Status Banco de Dados:\", interactive=False)\n",
        "\n",
        "    # Lembrar\n",
        "    gr.Markdown('# Lembrar')\n",
        "\n",
        "    # Espaço o Que vc lembra?\n",
        "    input_lembro = gr.Textbox(label=\"Digite a baixo, o que você lembra sobre o conteúdo estudado.\")\n",
        "    botao_submeter = gr.Button(\"(X)\")\n",
        "\n",
        "    parabens = gr.Textbox(label=\"(X):\", interactive=False)\n",
        "\n",
        "    # Conteúdo de Hoje\n",
        "    botao_submeter_conteudo = gr.Button(\"(X)\")\n",
        "    content_1 = gr.Textbox(label=\"(X):\", interactive=False)\n",
        "\n",
        "    # Comparação\n",
        "    compare = gr.Button(\"Comparação\")\n",
        "    resultados = gr.Textbox(label=\"Comparação do conteudo_de_hoje:\", interactive=False)\n",
        "\n",
        "    # Compreender\n",
        "    gr.Markdown('# Compreender')\n",
        "\n",
        "    # Texto dizendo \"Complete a frase a seguir para exercitar os conceitos da aula de hoje: \"\n",
        "    # Espaço para gerar a frase a ser completada\n",
        "    botao_complete = gr.Button(\"complete a frase\")\n",
        "    frase = gr.Textbox(label=\"frase:\", interactive=True)\n",
        "    # Resposta\n",
        "    # Resultado\n",
        "\n",
        "    # Aplicar\n",
        "    gr.Markdown('# Aplicar')\n",
        "\n",
        "    # Botão para gerar pergunta\n",
        "    botao_gerar = gr.Button(\"Gere uma nova pergunta\")\n",
        "    pergunta_formatada = gr.Textbox(label=\"Pergunta Gerada:\", interactive=False)\n",
        "\n",
        "    # Campo interativo para seleção de resposta com botões mais intuitivos\n",
        "    opcoes_respostas = gr.Radio(label=\"Selecione a resposta correta:\", choices=[\"A\", \"B\", \"C\", \"D\"], interactive=True, type=\"value\") #\n",
        "\n",
        "    # Botão para verificar a resposta\n",
        "    botao_verificar = gr.Button(\"Verificar resposta\")\n",
        "    feedback_resposta = gr.Textbox(label=\"Resultado:\", interactive=False)\n",
        "\n",
        "\n",
        "\n",
        "\n",
        "    # Conectando componentes às funções\n",
        "    materia_seletor.change(\n",
        "        fn=define_database,\n",
        "        inputs=[materia_seletor],\n",
        "        outputs=[materia_status]\n",
        "    )\n",
        "    botao_submeter.click(\n",
        "        fn=oq_lembro,\n",
        "        inputs=input_lembro,\n",
        "        outputs=[parabens] #parabens\n",
        "    )\n",
        "    compare.click(\n",
        "        fn=avaliar_respostas,\n",
        "        inputs=[input_lembro, content_1], # Passing the Gradio components\n",
        "        outputs=resultados\n",
        "    )\n",
        "    botao_submeter_conteudo.click(\n",
        "        fn=puxar_conteudo,\n",
        "        inputs=[],\n",
        "        outputs=[content_1] #content_1\n",
        "    )\n",
        "    # Conexção entre função compreender e espaço do gradio\n",
        "    botao_complete.click(\n",
        "        fn=complete_frase,\n",
        "        inputs=[],\n",
        "        outputs=[frase] #content_1\n",
        "    )\n",
        "    botao_gerar.click(\n",
        "        fn=gerar_pergunta,\n",
        "        inputs=[],\n",
        "        outputs=[pergunta_formatada, opcoes_respostas, feedback_resposta]\n",
        "    )\n",
        "    materia_seletor.change(\n",
        "        fn=gerar_pergunta,\n",
        "        inputs=[],\n",
        "        outputs=[opcoes_respostas]\n",
        "    )\n",
        "    botao_verificar.click(\n",
        "        fn=verificar_resposta,\n",
        "        inputs=[opcoes_respostas],\n",
        "        outputs=[feedback_resposta]\n",
        "    )\n",
        "\n",
        "\n",
        "\n",
        "# Inicializando a aplicação\n",
        "if __name__ == \"__main__\":\n",
        "    app.launch(debug=True)"
      ]
    },
    {
      "cell_type": "markdown",
      "metadata": {
        "id": "Msi2V7CIwl6f"
      },
      "source": [
        "### Aplicar (OK)"
      ]
    },
    {
      "cell_type": "code",
      "execution_count": null,
      "metadata": {
        "id": "0YhNyraNcWwp"
      },
      "outputs": [],
      "source": [
        "#Alternativa 4\n",
        "\n",
        "\n",
        "\n",
        "# Variáveis globais\n",
        "selected_subject = \"\"\n",
        "current_question = {}\n",
        "db_map = {\n",
        "    \"Matemática\": \"banco_matematica.db\",\n",
        "    \"História\": \"banco_historia.db\",\n",
        "    \"Biologia\": \"banco_biologia.db\",\n",
        "}\n",
        "\n",
        "\n",
        "\n",
        "# Função 1 para definir banco de dados com base na matéria\n",
        "def define_database(subject):\n",
        "    global selected_subject\n",
        "    selected_subject = subject\n",
        "    return f\"Banco de dados definido para {db_map.get(subject, 'desconhecido')}.\"\n",
        "\n",
        "# Função 2 para gerar uma nova pergunta\n",
        "def gerar_pergunta():\n",
        "    global current_question\n",
        "\n",
        "    if not selected_subject:\n",
        "        return \"Por favor, selecione uma matéria antes de gerar perguntas.\", [\"\"], \"\"\n",
        "\n",
        "    db_path = db_map.get(selected_subject)\n",
        "    if not db_path:\n",
        "        return \"Banco de dados não encontrado para a matéria selecionada.\", [\"\"], \"\"\n",
        "\n",
        "    try:\n",
        "        conn = sqlite3.connect(db_path)\n",
        "        cursor = conn.cursor()\n",
        "        cursor.execute(\"SELECT question, option_a, option_b, option_c, option_d, correct_option FROM questions ORDER BY RANDOM() LIMIT 1;\")\n",
        "        row = cursor.fetchone()\n",
        "        conn.close()\n",
        "\n",
        "        if not row:\n",
        "            return \"Nenhuma pergunta disponível no banco de dados.\", [\"\"], \"\"\n",
        "\n",
        "        # Guardar a pergunta atual globalmente\n",
        "        current_question = {\n",
        "            \"question\": row[0],\n",
        "            \"options\": [row[1], row[2], row[3], row[4]],\n",
        "            \"correct_option\": row[5],\n",
        "        }\n",
        "        question, option_a, option_b, option_c, option_d, correct_option = row\n",
        "        pergunta_formatada = (\n",
        "            f\"Pergunta: {question}\\n\\n\"\n",
        "            f\"A) {option_a}\\n\"\n",
        "            f\"B) {option_b}\\n\"\n",
        "            f\"C) {option_c}\\n\"\n",
        "            f\"D) {option_d}\"\n",
        "        )\n",
        "\n",
        "        return pergunta_formatada, current_question['options'], \"\" ,\n",
        "\n",
        "    except sqlite3.Error as e:\n",
        "        return f\"Erro ao acessar o banco de dados: {str(e)}\", [\"\"], \"\"\n",
        "\n",
        "# Função 3 para verificar a resposta\n",
        "def verificar_resposta(selected_option):\n",
        "    if not current_question:\n",
        "        return \"Nenhuma pergunta disponível. Gere uma nova pergunta.\"\n",
        "\n",
        "    correct_option = current_question.get(\"correct_option\")\n",
        "    if selected_option == correct_option:\n",
        "        return \"Correto! 🎉\"\n",
        "    else:\n",
        "        return f\"Incorreto. A resposta correta era: {correct_option}.\"\n",
        "\n",
        "\n",
        "\n",
        "\n",
        "\n",
        "\n",
        "# Criação da interface Gradio\n",
        "with gr.Blocks(theme=\"Soft\") as app:\n",
        "\n",
        "    # Título da app\n",
        "    gr.Markdown(\"# ToLearn\")\n",
        "    gr.Markdown(\"## Taxonomia de Bloom - Quiz Interativo\")\n",
        "\n",
        "    # Seletor de matérias\n",
        "    materia_seletor = gr.Dropdown(\n",
        "        label=\"Selecione a Matéria\",\n",
        "        choices=[\"Matemática\", \"História\", \"Biologia\"],\n",
        "        value=\"Matemática\",\n",
        "    )\n",
        "    materia_status = gr.Textbox(label=\"Banco de Dados Configurado:\", interactive=False)\n",
        "\n",
        "    # Botão para gerar pergunta\n",
        "    botao_gerar = gr.Button(\"Gere uma nova pergunta\")\n",
        "    pergunta_formatada = gr.Textbox(label=\"Pergunta Gerada:\", interactive=False)\n",
        "\n",
        "    # Campo interativo para seleção de resposta com botões mais intuitivos\n",
        "    opcoes_respostas = gr.Radio(label=\"Selecione a resposta correta:\", choices=[\"A\", \"B\", \"C\", \"D\"], interactive=True, type=\"value\") #\n",
        "\n",
        "    # Botão para verificar a resposta\n",
        "    botao_verificar = gr.Button(\"Verificar resposta\")\n",
        "    feedback_resposta = gr.Textbox(label=\"Resultado:\", interactive=False)\n",
        "\n",
        "\n",
        "\n",
        "\n",
        "    # Conectando componentes às funções\n",
        "    materia_seletor.change(\n",
        "        fn=define_database,\n",
        "        inputs=[materia_seletor],\n",
        "        outputs=[materia_status]\n",
        "    )\n",
        "    botao_gerar.click(\n",
        "        fn=gerar_pergunta,\n",
        "        inputs=[],\n",
        "        outputs=[pergunta_formatada, opcoes_respostas, feedback_resposta]\n",
        "    )\n",
        "    materia_seletor.change(\n",
        "        fn=gerar_pergunta,\n",
        "        inputs=[],\n",
        "        outputs=[opcoes_respostas]\n",
        "    )\n",
        "    botao_verificar.click(\n",
        "        fn=verificar_resposta,\n",
        "        inputs=[opcoes_respostas],\n",
        "        outputs=[feedback_resposta]\n",
        "    )\n",
        "\n",
        "\n",
        "# Inicializando a aplicação\n",
        "if __name__ == \"__main__\":\n",
        "    app.launch(debug=True)\n"
      ]
    },
    {
      "cell_type": "markdown",
      "metadata": {
        "id": "T76dYx84w-Pm"
      },
      "source": [
        "### Analisar\n"
      ]
    },
    {
      "cell_type": "markdown",
      "metadata": {
        "id": "Eok7FQMxyt5_"
      },
      "source": [
        "Problemas do mundo real que aplicam o conteúdo estudado."
      ]
    },
    {
      "cell_type": "markdown",
      "metadata": {
        "id": "hX-XkF8id8qb"
      },
      "source": [
        "#### Teste prática de geração de questões por IA (2.0)"
      ]
    },
    {
      "cell_type": "markdown",
      "metadata": {
        "id": "rjaQ9BzKw_fP"
      },
      "source": [
        "### Avaliar\n"
      ]
    },
    {
      "cell_type": "code",
      "execution_count": null,
      "metadata": {
        "id": "Sjf37C28OV0I"
      },
      "outputs": [],
      "source": [
        "print('resumo_1: ')"
      ]
    },
    {
      "cell_type": "code",
      "execution_count": null,
      "metadata": {
        "id": "bbz4xHnGfWHG"
      },
      "outputs": [],
      "source": [
        "#corrija seus erros"
      ]
    },
    {
      "cell_type": "markdown",
      "metadata": {
        "id": "IWOjYg1qxAo8"
      },
      "source": [
        "### Criar"
      ]
    },
    {
      "cell_type": "code",
      "execution_count": null,
      "metadata": {
        "id": "cbxCDyJzOeTh"
      },
      "outputs": [],
      "source": [
        "print('A partir do conteúdo estudado nesta aula, elabore um Mapa Mental.')\n",
        "#print('A partir do conteúdo estudado nesta aula, elabore um Flash Card.')\n",
        "#print('A partir do conteúdo estudado nesta aula, elabore 3 rodados no pensamento difuso.')"
      ]
    },
    {
      "cell_type": "markdown",
      "metadata": {
        "id": "TcOuZ8GuwfnA"
      },
      "source": [
        "## Exit\n"
      ]
    },
    {
      "cell_type": "code",
      "execution_count": null,
      "metadata": {
        "id": "sar7BI3uwQqM"
      },
      "outputs": [],
      "source": [
        "print(f'Parabéns pelo seu avanço, veja algumas métricas sobre os seus estudos: {metricas}, continue se dedicando, bons estudos!')"
      ]
    }
  ],
  "metadata": {
    "colab": {
      "provenance": [],
      "toc_visible": true,
      "authorship_tag": "ABX9TyP49vmOusGjgu60XZS5KyYQ",
      "include_colab_link": true
    },
    "kernelspec": {
      "display_name": "Python 3",
      "name": "python3"
    },
    "language_info": {
      "name": "python"
    }
  },
  "nbformat": 4,
  "nbformat_minor": 0
}